{
 "cells": [
  {
   "cell_type": "code",
   "execution_count": 4,
   "id": "e775029c",
   "metadata": {},
   "outputs": [
    {
     "name": "stdout",
     "output_type": "stream",
     "text": [
      "hello\n",
      "hello\n"
     ]
    }
   ],
   "source": [
    "#user defined function\n",
    "def abc():\n",
    "    print(\"hello\")\n",
    "abc() \n",
    "abc()"
   ]
  },
  {
   "cell_type": "code",
   "execution_count": 3,
   "id": "97839b5a",
   "metadata": {},
   "outputs": [
    {
     "name": "stdout",
     "output_type": "stream",
     "text": [
      "enter number :8\n",
      "hello\n",
      "value of a 8\n",
      "hello\n",
      "value of a 6\n"
     ]
    }
   ],
   "source": [
    "#passing array in function\n",
    "def abc(a):\n",
    "    print(\"hello\")\n",
    "    print(\"value of a\",a)\n",
    "a1=eval(input(\"enter number :\"))\n",
    "abc(a1)\n",
    "abc(6)\n",
    "    \n",
    "    "
   ]
  },
  {
   "cell_type": "code",
   "execution_count": 11,
   "id": "3d4ad635",
   "metadata": {},
   "outputs": [
    {
     "name": "stdout",
     "output_type": "stream",
     "text": [
      "sum is 11\n"
     ]
    }
   ],
   "source": [
    "#program to illustrate the addition of number\n",
    "def add_numbers(x,y):\n",
    "    sum=x+y\n",
    "    return sum\n",
    "num1=5\n",
    "num2=6\n",
    "ans=add_numbers(num1,num2)\n",
    "print(\"sum is\",ans)"
   ]
  },
  {
   "cell_type": "code",
   "execution_count": 13,
   "id": "d94eb498",
   "metadata": {},
   "outputs": [
    {
     "name": "stdout",
     "output_type": "stream",
     "text": [
      "sum is  11\n"
     ]
    }
   ],
   "source": [
    "#program \n",
    "def add_numbers(x,y):\n",
    "    sum=x+y\n",
    "    print(\"sum is \",sum)\n",
    "num1=5\n",
    "num2=6\n",
    "add_numbers(num1,num2)"
   ]
  },
  {
   "cell_type": "code",
   "execution_count": 1,
   "id": "df00868e",
   "metadata": {},
   "outputs": [
    {
     "name": "stdout",
     "output_type": "stream",
     "text": [
      "smit\n",
      "hello\n",
      "1234\n",
      "hello\n"
     ]
    }
   ],
   "source": [
    "#function basics\n",
    "def x():\n",
    "    print(\"hello\")\n",
    "print(\"smit\")\n",
    "x()\n",
    "print(\"1234\")\n",
    "x()"
   ]
  },
  {
   "cell_type": "code",
   "execution_count": 6,
   "id": "02815170",
   "metadata": {},
   "outputs": [
    {
     "name": "stdout",
     "output_type": "stream",
     "text": [
      "***************\n",
      "*             *\n",
      "*             *\n",
      "***************\n",
      "***************\n",
      "*             *\n",
      "*             *\n",
      "***************\n",
      "***************\n",
      "*             *\n",
      "*             *\n",
      "***************\n"
     ]
    }
   ],
   "source": [
    "#functions for pattern          \n",
    "def x():\n",
    "    print(\"*\"*15)\n",
    "    print(\"*\",\" \"*11,\"*\")\n",
    "    print(\"*\",\" \"*11,\"*\")\n",
    "    print(\"*\"*15)\n",
    "x()    \n",
    "x()\n",
    "x()"
   ]
  },
  {
   "cell_type": "code",
   "execution_count": 10,
   "id": "1414ebb9",
   "metadata": {},
   "outputs": [
    {
     "name": "stdout",
     "output_type": "stream",
     "text": [
      "hello hello hello \n",
      "\n",
      "hello hello hello hello hello \n",
      "\n",
      "hello hello \n",
      "\n"
     ]
    }
   ],
   "source": [
    "#to print hello multiple times using functions\n",
    "def x(n):\n",
    "    print(\"hello \"*n)\n",
    "    print()\n",
    "        \n",
    "x(3)\n",
    "x(5)\n",
    "x(2)"
   ]
  },
  {
   "cell_type": "code",
   "execution_count": 1,
   "id": "ea6061c6",
   "metadata": {},
   "outputs": [
    {
     "ename": "TypeError",
     "evalue": "x() missing 2 required positional arguments: 'string' and 'n'",
     "output_type": "error",
     "traceback": [
      "\u001b[1;31m---------------------------------------------------------------------------\u001b[0m",
      "\u001b[1;31mTypeError\u001b[0m                                 Traceback (most recent call last)",
      "\u001b[1;32m~\\AppData\\Local\\Temp\\ipykernel_20248\\3520195354.py\u001b[0m in \u001b[0;36m<module>\u001b[1;34m\u001b[0m\n\u001b[0;32m      3\u001b[0m     \u001b[0mprint\u001b[0m\u001b[1;33m(\u001b[0m\u001b[0mstring\u001b[0m\u001b[1;33m*\u001b[0m\u001b[0mn\u001b[0m\u001b[1;33m)\u001b[0m\u001b[1;33m\u001b[0m\u001b[1;33m\u001b[0m\u001b[0m\n\u001b[0;32m      4\u001b[0m     \u001b[0mprint\u001b[0m\u001b[1;33m(\u001b[0m\u001b[1;33m)\u001b[0m\u001b[1;33m\u001b[0m\u001b[1;33m\u001b[0m\u001b[0m\n\u001b[1;32m----> 5\u001b[1;33m \u001b[0mx\u001b[0m\u001b[1;33m(\u001b[0m \u001b[1;33m)\u001b[0m\u001b[1;33m\u001b[0m\u001b[1;33m\u001b[0m\u001b[0m\n\u001b[0m",
      "\u001b[1;31mTypeError\u001b[0m: x() missing 2 required positional arguments: 'string' and 'n'"
     ]
    }
   ],
   "source": []
  },
  {
   "cell_type": "code",
   "execution_count": 2,
   "id": "fc4b4de1",
   "metadata": {},
   "outputs": [
    {
     "name": "stdout",
     "output_type": "stream",
     "text": [
      "enter value of a7\n",
      "enter value of b9\n",
      "0\n"
     ]
    }
   ],
   "source": [
    "def outerfun(a,b):\n",
    "    ans=0\n",
    "    def innerfun():\n",
    "        print(a)\n",
    "        print(b)\n",
    "        ans=a+b\n",
    "    return ans\n",
    "    ans1=innerfun()\n",
    "    return ans1\n",
    "\n",
    "a=eval(input(\"enter value of a\"))\n",
    "b=eval(input(\"enter value of b\"))\n",
    "x=outerfun(a,b)\n",
    "print(x)"
   ]
  },
  {
   "cell_type": "code",
   "execution_count": null,
   "id": "087a7b90",
   "metadata": {},
   "outputs": [],
   "source": []
  }
 ],
 "metadata": {
  "kernelspec": {
   "display_name": "Python 3 (ipykernel)",
   "language": "python",
   "name": "python3"
  },
  "language_info": {
   "codemirror_mode": {
    "name": "ipython",
    "version": 3
   },
   "file_extension": ".py",
   "mimetype": "text/x-python",
   "name": "python",
   "nbconvert_exporter": "python",
   "pygments_lexer": "ipython3",
   "version": "3.9.13"
  }
 },
 "nbformat": 4,
 "nbformat_minor": 5
}
