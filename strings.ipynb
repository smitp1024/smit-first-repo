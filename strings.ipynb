{
 "cells": [
  {
   "cell_type": "code",
   "execution_count": 2,
   "id": "1a6a8ccc",
   "metadata": {},
   "outputs": [
    {
     "name": "stdout",
     "output_type": "stream",
     "text": [
      "smit\n",
      "SMIT PATEL\n",
      "this is a multiline string where we can write multiple lines\n",
      "in different rows.\n"
     ]
    }
   ],
   "source": [
    "#strings basics\n",
    "s='smit'\n",
    "x=\"SMIT PATEL\"\n",
    "a='''this is a multiline string where we can write multiple lines\n",
    "in different rows.'''\n",
    "print(s)\n",
    "print(x)\n",
    "print(a)"
   ]
  },
  {
   "cell_type": "code",
   "execution_count": 3,
   "id": "8dc0a59e",
   "metadata": {},
   "outputs": [
    {
     "name": "stdout",
     "output_type": "stream",
     "text": [
      "4\n"
     ]
    }
   ],
   "source": [
    "#to find length of the string we use len function\n",
    "s=\"smit\"\n",
    "print(len(s))"
   ]
  },
  {
   "cell_type": "code",
   "execution_count": null,
   "id": "5f8835e0",
   "metadata": {},
   "outputs": [],
   "source": [
    "#concatenation of string means to add\n",
    "s=\"smit\"+\"patel\"\n",
    "x=\"patel\"*4\n",
    "print(s*4)\n",
    "print(\"-\"*20)\n",
    "print(x)"
   ]
  },
  {
   "cell_type": "code",
   "execution_count": null,
   "id": "baed25f7",
   "metadata": {},
   "outputs": [],
   "source": [
    "#in operator checks the elements\n",
    "string=\"i\"\n",
    "if 'i' in string:\n",
    "    print(\"smit patel\")"
   ]
  },
  {
   "cell_type": "code",
   "execution_count": 4,
   "id": "1dae376a",
   "metadata": {},
   "outputs": [
    {
     "name": "stdout",
     "output_type": "stream",
     "text": [
      "aa\n"
     ]
    }
   ],
   "source": [
    " #more use of in operator\n",
    "s=''\n",
    "for i in range(5):\n",
    "    x=input(\"enter character\")\n",
    "    if x=='a' or x=='e' or x=='u' or x=='i' or x=='o':\n",
    "        s=s+x\n",
    "print(s)"
   ]
  },
  {
   "cell_type": "code",
   "execution_count": null,
   "id": "c9ab1351",
   "metadata": {},
   "outputs": [],
   "source": [
    "#indexing of a string\n",
    "s='python'\n",
    "print(s[0])\n",
    "print(s[1])\n",
    "print(s[-1])\n",
    "print(s[-2])"
   ]
  },
  {
   "cell_type": "code",
   "execution_count": null,
   "id": "64035c9f",
   "metadata": {},
   "outputs": [],
   "source": [
    "#index by slashing\n",
    "s='SMITPATEL'\n",
    "print(s[2:5])\n",
    "print(s[0:4])\n",
    "print(s[4:])\n",
    "print(s[:5])\n",
    "print(s[::])\n",
    "print(s[-3:])\n",
    "print(s[-4:])\n",
    "print(s[2:8:2])\n",
    "print(s[::-1])\n"
   ]
  },
  {
   "cell_type": "code",
   "execution_count": null,
   "id": "b98228e3",
   "metadata": {},
   "outputs": [],
   "source": [
    "#to assign a new value at a particular index\n",
    "s='python'\n",
    "print(s)\n",
    "s= s[:2] + 'o' + s[3:]\n",
    "print(s)\n",
    "print(s*2)"
   ]
  },
  {
   "cell_type": "code",
   "execution_count": null,
   "id": "05d999d2",
   "metadata": {},
   "outputs": [],
   "source": [
    "#for a user's input range looping in string\n",
    "s=input(\"enter name:\")\n",
    "for i in range(len(s)):\n",
    "    print(s[i])"
   ]
  },
  {
   "cell_type": "code",
   "execution_count": null,
   "id": "547fbee3",
   "metadata": {},
   "outputs": [],
   "source": [
    "#some string methods\n",
    "s=\"SMit\"\n",
    "s=s.lower()\n",
    "print(s)\n",
    "s=s.upper()\n",
    "print(s)\n",
    "s=s.replace('SMIT','a')\n",
    "print(s)\n"
   ]
  },
  {
   "cell_type": "code",
   "execution_count": null,
   "id": "fd7be369",
   "metadata": {},
   "outputs": [],
   "source": [
    "#count string method shows at which the element is \n",
    "s=\"smit\"\n",
    "print(s.count(s))\n"
   ]
  },
  {
   "cell_type": "code",
   "execution_count": null,
   "id": "675fc45b",
   "metadata": {},
   "outputs": [],
   "source": [
    "#isalpha string shows true if every character of the string is letter\n",
    "s=\"smit\"\n",
    "print(s.isalpha())"
   ]
  },
  {
   "cell_type": "code",
   "execution_count": null,
   "id": "42d95bec",
   "metadata": {},
   "outputs": [],
   "source": [
    "#to find the location of certain alphabets.\n",
    "s=input(\"enter character:\")\n",
    "for i in range(len(s)):\n",
    "    if s[i]=='a':\n",
    "         print(i)"
   ]
  },
  {
   "cell_type": "code",
   "execution_count": null,
   "id": "5d6ba4f3",
   "metadata": {},
   "outputs": [],
   "source": [
    "x=input(\"enter anything :\")\n",
    "Y=len(x)\n",
    "L=0\n",
    "U=0\n",
    "y=0\n",
    "s=0\n",
    "for i in range(Y):\n",
    "    if x[i].islower():\n",
    "        L=L+1\n",
    "    elif x[i].isupper():\n",
    "        U=U+1\n",
    "    elif x[i]\n",
    "        y=y+1\n",
    "    else:\n",
    "        s=s+1\n",
    "print(\"UPPERCASE :\",U)\n",
    "print(\"LOWERCASE :\",L)\n",
    "print(\"digits :\",x)\n",
    "print(\"special characters :\",s)"
   ]
  },
  {
   "cell_type": "code",
   "execution_count": null,
   "id": "66bd0aa4",
   "metadata": {},
   "outputs": [],
   "source": []
  }
 ],
 "metadata": {
  "kernelspec": {
   "display_name": "Python 3 (ipykernel)",
   "language": "python",
   "name": "python3"
  },
  "language_info": {
   "codemirror_mode": {
    "name": "ipython",
    "version": 3
   },
   "file_extension": ".py",
   "mimetype": "text/x-python",
   "name": "python",
   "nbconvert_exporter": "python",
   "pygments_lexer": "ipython3",
   "version": "3.9.13"
  }
 },
 "nbformat": 4,
 "nbformat_minor": 5
}
